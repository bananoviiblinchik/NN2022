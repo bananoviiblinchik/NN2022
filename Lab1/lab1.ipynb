{
  "nbformat": 4,
  "nbformat_minor": 0,
  "metadata": {
    "colab": {
      "name": "lab1.ipynb",
      "provenance": [],
      "collapsed_sections": []
    },
    "kernelspec": {
      "name": "python3",
      "display_name": "Python 3"
    },
    "language_info": {
      "name": "python"
    }
  },
  "cells": [
    {
      "cell_type": "markdown",
      "source": [
        "1. Numpy"
      ],
      "metadata": {
        "id": "OXmAHPlBkhLe"
      }
    },
    {
      "cell_type": "code",
      "execution_count": 12,
      "metadata": {
        "id": "XUqfqSB6kf8j",
        "colab": {
          "base_uri": "https://localhost:8080/"
        },
        "outputId": "cfedf086-c853-47db-c847-cb42b723ddd9"
      },
      "outputs": [
        {
          "output_type": "stream",
          "name": "stdout",
          "text": [
            "[0.86105823 0.07352024 0.99686263 0.5528468  0.49207569 0.3677973\n",
            " 0.0773888  0.00603875 0.40571867 0.82301185]\n",
            "[8.61058231e-01 7.35202407e-02 9.96862633e-01 5.52846802e-01\n",
            " 4.92075694e-01 3.67797302e-01 7.73888040e-02 6.03874968e-03\n",
            " 4.05718674e-01 8.23011848e-01 1.00000000e+01 1.20000000e+01]\n",
            "(12,)\n",
            "[[8.61058231e-01 7.35202407e-02 9.96862633e-01 5.52846802e-01\n",
            "  4.92075694e-01 3.67797302e-01]\n",
            " [7.73888040e-02 6.03874968e-03 4.05718674e-01 8.23011848e-01\n",
            "  1.00000000e+01 1.20000000e+01]]\n",
            "[0.86105823 0.07352024 0.99686263 0.5528468  0.49207569 0.3677973 ]\n",
            "[0 1 2]\n"
          ]
        }
      ],
      "source": [
        "import numpy as np\n",
        "\n",
        "some_array = np.array(np.random.rand(10))\n",
        "print(some_array)\n",
        "some_array = np.append(some_array, 10)\n",
        "some_array = np.append(some_array, 12)\n",
        "print(some_array)\n",
        "print(np.shape(some_array))\n",
        "some_array = np.reshape(some_array, (2, 6))\n",
        "print(some_array)\n",
        "some_array = some_array[0]\n",
        "print(some_array)\n",
        "print(np.arange(3))"
      ]
    },
    {
      "cell_type": "markdown",
      "source": [
        "2. Pandas"
      ],
      "metadata": {
        "id": "uPdfOBonmHD4"
      }
    },
    {
      "cell_type": "code",
      "source": [
        "import pandas as pd\n",
        "\n",
        "d = {'col1': [1, 2, 3], 'col2': [3, 4, 5]}\n",
        "df = pd.DataFrame(data=d)\n",
        "print(df)\n",
        "print(df.head(2))\n",
        "print(df.describe())\n",
        "df.insert(1, \"newcol\", [8, 9, 10])\n",
        "print(df)\n",
        "print(df.cummin())"
      ],
      "metadata": {
        "colab": {
          "base_uri": "https://localhost:8080/"
        },
        "id": "ik3klGBMmGRN",
        "outputId": "74d0601c-9421-4350-938c-5f7e524e4596"
      },
      "execution_count": 19,
      "outputs": [
        {
          "output_type": "stream",
          "name": "stdout",
          "text": [
            "   col1  col2\n",
            "0     1     3\n",
            "1     2     4\n",
            "2     3     5\n",
            "   col1  col2\n",
            "0     1     3\n",
            "1     2     4\n",
            "       col1  col2\n",
            "count   3.0   3.0\n",
            "mean    2.0   4.0\n",
            "std     1.0   1.0\n",
            "min     1.0   3.0\n",
            "25%     1.5   3.5\n",
            "50%     2.0   4.0\n",
            "75%     2.5   4.5\n",
            "max     3.0   5.0\n",
            "   col1  newcol  col2\n",
            "0     1       8     3\n",
            "1     2       9     4\n",
            "2     3      10     5\n",
            "   col1  newcol  col2\n",
            "0     1       8     3\n",
            "1     1       8     3\n",
            "2     1       8     3\n"
          ]
        }
      ]
    },
    {
      "cell_type": "markdown",
      "source": [
        "3. Matplotlib"
      ],
      "metadata": {
        "id": "0EJ2hz0jpLnd"
      }
    },
    {
      "cell_type": "code",
      "source": [
        "import matplotlib.pyplot as plt\n",
        "from sklearn.metrics import mean_squared_error\n",
        "\n",
        "data_x = [1, 3, 4, 4, 5, 5, 5, 6, 6, 6, 7, 7]\n",
        "data_y = [4, 5, 6, 7, 8, 8, 7, 9, 9, 10, 9, 10]\n",
        "\n",
        "coef = np.polyfit(data_x,data_y,1)\n",
        "poly1d_fn = np.poly1d(coef) \n",
        "# poly1d_fn is now a function which takes in x and returns an estimate for y\n",
        "\n",
        "predicted_y = poly1d_fn(data_x)\n",
        "\n",
        "plt.plot(data_x,data_y, 'yo', data_x, predicted_y, '--k') #'--k'=black dashed line, 'yo' = yellow circle marker\n",
        "\n",
        "plt.xlim(0, 8)\n",
        "plt.ylim(0, 12)\n",
        "\n",
        "mae = np.mean(np.abs(data_y - predicted_y))\n",
        "print(\"MAE is \", mae)\n",
        "mse = mean_squared_error(data_y, predicted_y)\n",
        "print(\"MSE is \", mse)"
      ],
      "metadata": {
        "colab": {
          "base_uri": "https://localhost:8080/",
          "height": 306
        },
        "id": "V4IlNrFmpOCl",
        "outputId": "daf859bf-7186-49e9-dfe7-07b5225864cd"
      },
      "execution_count": 33,
      "outputs": [
        {
          "output_type": "stream",
          "name": "stdout",
          "text": [
            "MAE is  0.4940928270042197\n",
            "MSE is  0.34641350210970473\n"
          ]
        },
        {
          "output_type": "display_data",
          "data": {
            "text/plain": [
              "<Figure size 432x288 with 1 Axes>"
            ],
            "image/png": "[encoded data removed]"
          },
          "metadata": {
            "needs_background": "light"
          }
        }
      ]
    },
    {
      "cell_type": "code",
      "source": [
        "with open('Lab1\\matplotlib_data.csv', 'w') as writefile:\n",
        "    writefile.write(str(data_x))\n",
        "    writefile.write(str(data_y))\n",
        "    writefile.write(str(predicted_y))\n",
        "    writefile.write(str(mae))\n",
        "    writefile.write(str(mse))"
      ],
      "metadata": {
        "id": "WJz8fgrksN8o"
      },
      "execution_count": 37,
      "outputs": []
    },
    {
      "cell_type": "markdown",
      "source": [
        ""
      ],
      "metadata": {
        "id": "kI03eoHgsMjt"
      }
    },
    {
      "cell_type": "markdown",
      "source": [
        ""
      ],
      "metadata": {
        "id": "NDt_0cVBkgoB"
      }
    }
  ]
}