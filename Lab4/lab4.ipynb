{
  "nbformat": 4,
  "nbformat_minor": 0,
  "metadata": {
    "colab": {
      "name": "lab4.ipynb",
      "provenance": [],
      "collapsed_sections": []
    },
    "kernelspec": {
      "name": "python3",
      "display_name": "Python 3"
    },
    "language_info": {
      "name": "python"
    }
  },
  "cells": [
    {
      "cell_type": "markdown",
      "source": [
        "Imports"
      ],
      "metadata": {
        "id": "FAD6JdmY_0qB"
      }
    },
    {
      "cell_type": "code",
      "source": [
        "import tensorflow as tf\n",
        "#from sklearn.datasets import make_circles\n",
        "import pandas as pd\n",
        "import matplotlib.pyplot as plt\n",
        "import numpy as np\n",
        "from tensorflow.keras.datasets import fashion_mnist\n",
        "from sklearn.metrics import confusion_matrix\n",
        "import itertools"
      ],
      "metadata": {
        "id": "Rl138P82_3nV"
      },
      "execution_count": 72,
      "outputs": []
    },
    {
      "cell_type": "markdown",
      "source": [
        "Dataset"
      ],
      "metadata": {
        "id": "hNhtaZtfxRuv"
      }
    },
    {
      "cell_type": "code",
      "execution_count": 107,
      "metadata": {
        "id": "cwnsDcbxv1Lc",
        "colab": {
          "base_uri": "https://localhost:8080/"
        },
        "outputId": "4dacb8a9-0bb2-4c33-8f8a-dcb2345f8fa9"
      },
      "outputs": [
        {
          "output_type": "stream",
          "name": "stdout",
          "text": [
            "(18000,)\n",
            "(3000, 28, 28)\n"
          ]
        }
      ],
      "source": [
        "# classes we'll use are 1, 4, 8\n",
        "(train_data, train_labels), (test_data, test_labels) = fashion_mnist.load_data()\n",
        "\n",
        "bad_indexes = []\n",
        "for i in range(len(train_data)):\n",
        "  if train_labels[i] != 1 and train_labels[i] != 4 and train_labels[i] != 8:\n",
        "    bad_indexes.append(i)\n",
        "\n",
        "train_data = np.delete(train_data, bad_indexes, axis=0)\n",
        "train_labels = np.delete(train_labels, bad_indexes, axis=0)\n",
        "print(train_labels.shape)\n",
        "\n",
        "bad_indexes = []\n",
        "for i in range(len(test_data)):\n",
        "  if test_labels[i] != 1 and test_labels[i] != 4 and test_labels[i] != 8:\n",
        "    bad_indexes.append(i)\n",
        "test_data = np.delete(test_data, bad_indexes, axis=0)\n",
        "test_labels = np.delete(test_labels, bad_indexes, axis=0)\n",
        "print(test_data.shape)\n",
        "\n",
        "train_data = train_data / 255.0\n",
        "test_data = test_data / 255.0\n",
        "\n",
        "class_names = ['Trouser', 'Coat', 'Bag']"
      ]
    },
    {
      "cell_type": "markdown",
      "source": [
        "Neural network"
      ],
      "metadata": {
        "id": "7a_spDkVxUYs"
      }
    },
    {
      "cell_type": "code",
      "source": [
        "# Set random seed\n",
        "tf.random.set_seed(42)\n",
        "\n",
        "# 1. Create the model using the Sequential API\n",
        "model = tf.keras.Sequential([\n",
        "  tf.keras.layers.Flatten(input_shape=(28, 28)),  #input layer\n",
        "  tf.keras.layers.Dense(4, activation=\"relu\"), # hidden layer 1\n",
        "  tf.keras.layers.Dense(4, activation=\"relu\"), # hidden layer 2\n",
        "  tf.keras.layers.Dense(10, activation=\"softmax\") # ouput layer\n",
        "])\n",
        "\n",
        "# 2. Compile the model\n",
        "model.compile(loss=\"SparseCategoricalCrossentropy\",\n",
        "                optimizer=tf.keras.optimizers.Adam(lr=0.002),\n",
        "                metrics=['accuracy'])\n",
        "\n",
        "# Create a learning rate scheduler callback\n",
        "#lr_scheduler = tf.keras.callbacks.LearningRateScheduler(lambda epoch: 1e-3 * 10**(epoch/20))\n",
        "\n",
        "# 3. Fit the model\n",
        "history = model.fit(train_data,\n",
        "                    train_labels,\n",
        "                    epochs=20,\n",
        "                    verbose=0,\n",
        "                    validation_data=(test_data, test_labels),\n",
        "#                    callbacks=[lr_scheduler]\n",
        "                    )\n",
        "loss, accuracy = model.evaluate(train_data, train_labels)"
      ],
      "metadata": {
        "colab": {
          "base_uri": "https://localhost:8080/"
        },
        "id": "I4TmW05ixWHe",
        "outputId": "dd832b71-77d4-4da0-8346-a800cabb142e"
      },
      "execution_count": 112,
      "outputs": [
        {
          "output_type": "stream",
          "name": "stderr",
          "text": [
            "/usr/local/lib/python3.7/dist-packages/keras/optimizer_v2/adam.py:105: UserWarning: The `lr` argument is deprecated, use `learning_rate` instead.\n",
            "  super(Adam, self).__init__(name, **kwargs)\n"
          ]
        },
        {
          "output_type": "stream",
          "name": "stdout",
          "text": [
            "563/563 [==============================] - 1s 1ms/step - loss: 0.0252 - accuracy: 0.9923\n"
          ]
        }
      ]
    },
    {
      "cell_type": "markdown",
      "source": [
        "Show results"
      ],
      "metadata": {
        "id": "sFpO-C_S7TPY"
      }
    },
    {
      "cell_type": "code",
      "source": [
        "print(f\"Model loss on the test set: {loss}\")\n",
        "print(f\"Model accuracy on the test set: {100*accuracy:.2f}%\")\n",
        "\n",
        "## Plot the decision boundaries for the training and test sets\n",
        "# plt.figure(figsize=(12, 6))\n",
        "# plt.subplot(1, 2, 1)\n",
        "# plt.title(\"Train\")\n",
        "# plot_decision_boundary(model, X=train_data, y=train_labels)\n",
        "# plt.subplot(1, 2, 2)\n",
        "# plt.title(\"Test\")\n",
        "# plot_decision_boundary(model, X=test_data, y=test_labels)\n",
        "# plt.show()\n",
        "\n",
        "#print(pd.DataFrame(history.history))\n",
        "pd.DataFrame(history.history).plot()\n",
        "plt.title(\"Model training curves\")"
      ],
      "metadata": {
        "colab": {
          "base_uri": "https://localhost:8080/",
          "height": 337
        },
        "id": "jXChdi1f7W1h",
        "outputId": "b915aa80-3ea1-45ad-c9ee-208d4d7918af"
      },
      "execution_count": 113,
      "outputs": [
        {
          "output_type": "stream",
          "name": "stdout",
          "text": [
            "Model loss on the test set: 0.02523435465991497\n",
            "Model accuracy on the test set: 99.23%\n"
          ]
        },
        {
          "output_type": "execute_result",
          "data": {
            "text/plain": [
              "Text(0.5, 1.0, 'Model training curves')"
            ]
          },
          "metadata": {},
          "execution_count": 113
        },
        {
          "output_type": "display_data",
          "data": {
            "text/plain": [
              "<Figure size 432x288 with 1 Axes>"
            ],
            "image/png": "[encoded data removed]"
          },
          "metadata": {
            "needs_background": "light"
          }
        }
      ]
    },
    {
      "cell_type": "markdown",
      "source": [
        "Learning rate vs loss"
      ],
      "metadata": {
        "id": "s1CsttNCFwyp"
      }
    },
    {
      "cell_type": "code",
      "source": [
        "# Plot the learning rate versus the loss\n",
        "lrs = 1e-3 * (10**(np.arange(20)/20))\n",
        "plt.semilogx(lrs, history.history[\"loss\"])\n",
        "plt.xlabel(\"Learning rate\")\n",
        "plt.ylabel(\"Loss\")\n",
        "plt.title(\"Finding the ideal learning rate\");"
      ],
      "metadata": {
        "colab": {
          "base_uri": "https://localhost:8080/",
          "height": 299
        },
        "id": "KmWeuJxBF1yb",
        "outputId": "388d39a0-f18e-4d11-dad4-3b97697105bd"
      },
      "execution_count": 111,
      "outputs": [
        {
          "output_type": "display_data",
          "data": {
            "text/plain": [
              "<Figure size 432x288 with 1 Axes>"
            ],
            "image/png": "[encoded data removed]"
          },
          "metadata": {
            "needs_background": "light"
          }
        }
      ]
    },
    {
      "cell_type": "markdown",
      "source": [
        "Confusion matrix"
      ],
      "metadata": {
        "id": "zIvphBBi-CPJ"
      }
    },
    {
      "cell_type": "code",
      "source": [
        "def make_confusion_matrix(y_true, y_pred, classes=None, figsize=(10, 10), text_size=15): \n",
        "  # Create the confustion matrix\n",
        "  cm = confusion_matrix(y_true, y_pred)\n",
        "  cm_norm = cm.astype(\"float\") / cm.sum(axis=1)[:, np.newaxis] # normalize it\n",
        "  n_classes = cm.shape[0] # find the number of classes we're dealing with\n",
        "\n",
        "  # Plot the figure and make it pretty\n",
        "  fig, ax = plt.subplots(figsize=figsize)\n",
        "  cax = ax.matshow(cm, cmap=plt.cm.Blues) # colors will represent how 'correct' a class is, darker == better\n",
        "  fig.colorbar(cax)\n",
        "\n",
        "  # Are there a list of classes?\n",
        "  if classes:\n",
        "    labels = classes\n",
        "  else:\n",
        "    labels = np.arange(cm.shape[0])\n",
        "  \n",
        "  # Label the axes\n",
        "  ax.set(title=\"Confusion Matrix\",\n",
        "         xlabel=\"Predicted label\",\n",
        "         ylabel=\"True label\",\n",
        "         xticks=np.arange(n_classes), # create enough axis slots for each class\n",
        "         yticks=np.arange(n_classes), \n",
        "         xticklabels=labels, # axes will labeled with class names (if they exist) or ints\n",
        "         yticklabels=labels)\n",
        "  \n",
        "  # Make x-axis labels appear on bottom\n",
        "  ax.xaxis.set_label_position(\"bottom\")\n",
        "  ax.xaxis.tick_bottom()\n",
        "\n",
        "  # Set the threshold for different colors\n",
        "  threshold = (cm.max() + cm.min()) / 2.\n",
        "\n",
        "  # Plot the text on each cell\n",
        "  for i, j in itertools.product(range(cm.shape[0]), range(cm.shape[1])):\n",
        "    plt.text(j, i, f\"{cm[i, j]} ({cm_norm[i, j]*100:.1f}%)\",\n",
        "             horizontalalignment=\"center\",\n",
        "             color=\"white\" if cm[i, j] > threshold else \"black\",\n",
        "             size=text_size)\n",
        "\n",
        "y_probs = model.predict(test_data)\n",
        "y_preds = y_probs.argmax(axis=1)\n",
        "make_confusion_matrix(y_true=test_labels, \n",
        "                      y_pred=y_preds,\n",
        "                      classes=class_names,\n",
        "                      figsize=(15, 15),\n",
        "                      text_size=10)"
      ],
      "metadata": {
        "id": "_r053jNG-EI8",
        "colab": {
          "base_uri": "https://localhost:8080/",
          "height": 852
        },
        "outputId": "84d52d76-02e7-4af3-a5a5-87c69b6a2d37"
      },
      "execution_count": 114,
      "outputs": [
        {
          "output_type": "display_data",
          "data": {
            "text/plain": [
              "<Figure size 1080x1080 with 2 Axes>"
            ],
            "image/png": "[encoded data removed]"
          },
          "metadata": {
            "needs_background": "light"
          }
        }
      ]
    }
  ]
}