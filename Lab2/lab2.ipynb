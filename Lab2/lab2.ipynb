{
  "nbformat": 4,
  "nbformat_minor": 0,
  "metadata": {
    "colab": {
      "name": "lab2.ipynb",
      "provenance": [],
      "collapsed_sections": []
    },
    "kernelspec": {
      "name": "python3",
      "display_name": "Python 3"
    },
    "language_info": {
      "name": "python"
    }
  },
  "cells": [
    {
      "cell_type": "code",
      "execution_count": 31,
      "metadata": {
        "colab": {
          "base_uri": "https://localhost:8080/"
        },
        "id": "TbSq3Bbf4ceX",
        "outputId": "77b43065-30b2-4122-e048-edab4988adb6"
      },
      "outputs": [
        {
          "output_type": "stream",
          "name": "stdout",
          "text": [
            "0\n",
            "1\n",
            "(2, 2)\n",
            "4\n",
            "(5, 300)\n",
            "(224, 224, 3)\n",
            "5.6395714e-07\n",
            "0.99999124\n",
            "(1, 224, 224, 3)\n",
            "(224, 224, 3)\n",
            "3\n",
            "tf.Tensor(\n",
            "[[0. 0. 0. 0. 0. 1. 0. 0. 0. 0. 0.]\n",
            " [0. 0. 0. 0. 1. 0. 0. 0. 0. 0. 0.]\n",
            " [0. 0. 0. 0. 0. 1. 0. 0. 0. 0. 0.]\n",
            " [0. 0. 0. 0. 0. 0. 0. 0. 0. 0. 1.]\n",
            " [0. 0. 1. 0. 0. 0. 0. 0. 0. 0. 0.]\n",
            " [0. 0. 0. 0. 1. 0. 0. 0. 0. 0. 0.]\n",
            " [0. 0. 0. 0. 0. 0. 1. 0. 0. 0. 0.]\n",
            " [0. 1. 0. 0. 0. 0. 0. 0. 0. 0. 0.]\n",
            " [0. 0. 0. 0. 0. 0. 0. 0. 1. 0. 0.]\n",
            " [0. 0. 0. 1. 0. 0. 0. 0. 0. 0. 0.]], shape=(10, 11), dtype=float32)\n"
          ]
        }
      ],
      "source": [
        "import tensorflow as tf\n",
        "import random \n",
        "import numpy as np\n",
        "\n",
        "#1\n",
        "scalar = tf.constant(7)\n",
        "vector = tf.constant([5, 6])\n",
        "matrix = tf.constant([[1, 2], [3, 4]])\n",
        "\n",
        "#2\n",
        "print(scalar.ndim)\n",
        "print(vector.ndim)\n",
        "print(matrix.shape)\n",
        "print(tf.size(matrix).numpy())\n",
        "\n",
        "#3\n",
        "some_tensor1 = tf.constant([[random.random() for i in range(300)] for j in range(5)])\n",
        "some_tensor2 = tf.constant([[random.random() for i in range(300)] for j in range(5)])\n",
        "print(some_tensor1.shape)\n",
        "\n",
        "#4, 5\n",
        "multiplied_tensor = some_tensor1 * some_tensor2\n",
        "#multiplied_tensor2 = tf.matmul(some_tensor1, some_tensor2)\n",
        "tf.multiply(some_tensor1, 10)\n",
        "\n",
        "#6\n",
        "another_tensor = tf.constant([[[random.random() for i in range(3)] for j in range(224)] for n in range(224)])\n",
        "print(another_tensor.shape)\n",
        "\n",
        "#7\n",
        "print(tf.reduce_min(another_tensor).numpy())\n",
        "print(tf.reduce_max(another_tensor).numpy())\n",
        "\n",
        "#8\n",
        "another_tensor2 = tf.constant(np.random.randint(0, 10, 150528), shape=(1, 224, 224, 3))\n",
        "print(another_tensor2.shape)\n",
        "another_tensor2_squeezed = tf.squeeze(another_tensor2)\n",
        "print(another_tensor2_squeezed.shape)\n",
        "\n",
        "#9\n",
        "task_nine_tensor = tf.constant([5, 4, 5, 10, 2, 4, 6, 1, 8, 3])\n",
        "print(tf.argmax(task_nine_tensor).numpy())\n",
        "\n",
        "#10\n",
        "print(tf.one_hot(task_nine_tensor, depth=11))"
      ]
    }
  ]
}