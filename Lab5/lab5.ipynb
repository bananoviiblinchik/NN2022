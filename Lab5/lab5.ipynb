{
  "nbformat": 4,
  "nbformat_minor": 0,
  "metadata": {
    "colab": {
      "name": "lab5.ipynb",
      "provenance": [],
      "collapsed_sections": []
    },
    "kernelspec": {
      "name": "python3",
      "display_name": "Python 3"
    },
    "language_info": {
      "name": "python"
    },
    "accelerator": "GPU"
  },
  "cells": [
    {
      "cell_type": "markdown",
      "source": [
        "Завдання:\n",
        "\n",
        "На основі документу вирішити завдання класифікації зображень їжі для 3 класів з набору даних food101\n",
        "\n",
        "Індекси класів визначити індивідуально за залежностями: i1=n-1,i2=n+29,i3=n+59 (де і1,і2,і3 - індекс класу (починаючи з 0) у відсортованому за алфавітом наборі даних, n - номер за списком групи."
      ],
      "metadata": {
        "id": "InwKrUZDW3ti"
      }
    },
    {
      "cell_type": "markdown",
      "source": [
        "Imports"
      ],
      "metadata": {
        "id": "EBOh6JM94Zsm"
      }
    },
    {
      "cell_type": "code",
      "execution_count": null,
      "metadata": {
        "id": "qiEihvDb4KFR"
      },
      "outputs": [],
      "source": [
        "import zipfile\n",
        "import tensorflow as tf\n",
        "import pandas as pd\n",
        "import pathlib\n",
        "import numpy as np\n",
        "import os\n",
        "import shutil\n",
        "from tensorflow.keras.preprocessing.image import ImageDataGenerator\n",
        "from tensorflow.keras.optimizers import Adam\n",
        "from tensorflow.keras.layers import Dense, Flatten, Conv2D, MaxPool2D, Activation\n",
        "from tensorflow.keras import Sequential"
      ]
    },
    {
      "cell_type": "markdown",
      "source": [
        "Dataset (classes by variant are 1, 31, 61)"
      ],
      "metadata": {
        "id": "boOEcLQM537_"
      }
    },
    {
      "cell_type": "code",
      "source": [
        "# Download zip file \n",
        "!wget https://storage.googleapis.com/ztm_tf_course/food_vision/101_food_classes_10_percent.zip\n",
        "\n",
        "# Unzip the downloaded file\n",
        "zip_ref = zipfile.ZipFile(\"101_food_classes_10_percent.zip\", \"r\")\n",
        "zip_ref.extractall()\n",
        "zip_ref.close()\n",
        "\n",
        "# Set the seed\n",
        "tf.random.set_seed(42)\n",
        "\n",
        "# Preprocess data (get all of the pixel values between 1 and 0, also called scaling/normalization)\n",
        "train_datagen = ImageDataGenerator(rescale=1./255)\n",
        "test_datagen = ImageDataGenerator(rescale=1./255)\n",
        "\n",
        "# Setup the train and test directories\n",
        "train_dir = \"101_food_classes_10_percent/train/\"\n",
        "test_dir = \"101_food_classes_10_percent/test/\"\n",
        "\n",
        "data_dir = pathlib.Path(train_dir)\n",
        "class_names = np.array(sorted([item.name for item in data_dir.glob('*')]))\n",
        "#print(class_names)\n",
        "\n",
        "for dir_names in os.listdir(train_dir):\n",
        "  if dir_names != class_names[1] and dir_names != class_names[31] and dir_names != class_names[61]:\n",
        "    shutil.rmtree('101_food_classes_10_percent/train/'+dir_names)\n",
        "    shutil.rmtree('101_food_classes_10_percent/test/'+dir_names)\n",
        "\n",
        "!ls 101_food_classes_10_percent/train/\n",
        "\n",
        "# Rescale the data and create data generator instances\n",
        "train_datagen = ImageDataGenerator(rescale=1/255.)\n",
        "test_datagen = ImageDataGenerator(rescale=1/255.)\n",
        "train_datagen_augmented = ImageDataGenerator(rescale=1/255.,\n",
        "                                             rotation_range=20,\n",
        "                                             width_shift_range=0.2,\n",
        "                                             height_shift_range=0.2,\n",
        "                                             zoom_range=0.2,\n",
        "                                             horizontal_flip=True)\n",
        "\n",
        "# Load data in from directories and turn it into batches\n",
        "train_data = train_datagen.flow_from_directory(train_dir,\n",
        "                                               target_size=(224, 224),\n",
        "                                               batch_size=32,\n",
        "                                               class_mode='categorical')\n",
        "\n",
        "test_data = train_datagen.flow_from_directory(test_dir,\n",
        "                                              target_size=(224, 224),\n",
        "                                              batch_size=32,\n",
        "                                              class_mode='categorical')\n",
        "\n",
        "train_data_augmented = train_datagen_augmented.flow_from_directory(train_dir,\n",
        "                                                                  target_size=(224, 224),\n",
        "                                                                  batch_size=32,\n",
        "                                                                  class_mode='categorical')"
      ],
      "metadata": {
        "colab": {
          "base_uri": "https://localhost:8080/"
        },
        "id": "VFOE4PLa55IF",
        "outputId": "c7a2f4b1-061b-4a63-cec0-d2107e0e5e3d"
      },
      "execution_count": null,
      "outputs": [
        {
          "output_type": "stream",
          "name": "stdout",
          "text": [
            "--2022-06-05 18:51:43--  https://storage.googleapis.com/ztm_tf_course/food_vision/101_food_classes_10_percent.zip\n",
            "Resolving storage.googleapis.com (storage.googleapis.com)... 74.125.24.128, 142.251.10.128, 142.251.12.128, ...\n",
            "Connecting to storage.googleapis.com (storage.googleapis.com)|74.125.24.128|:443... connected.\n",
            "HTTP request sent, awaiting response... 200 OK\n",
            "Length: 1625420029 (1.5G) [application/zip]\n",
            "Saving to: ‘101_food_classes_10_percent.zip.4’\n",
            "\n",
            "101_food_classes_10 100%[===================>]   1.51G   185MB/s    in 8.4s    \n",
            "\n",
            "2022-06-05 18:51:52 (185 MB/s) - ‘101_food_classes_10_percent.zip.4’ saved [1625420029/1625420029]\n",
            "\n",
            "baby_back_ribs\tdonuts\tlobster_roll_sandwich\n",
            "Found 225 images belonging to 3 classes.\n",
            "Found 750 images belonging to 3 classes.\n",
            "Found 225 images belonging to 3 classes.\n"
          ]
        }
      ]
    },
    {
      "cell_type": "markdown",
      "source": [
        "Neural network"
      ],
      "metadata": {
        "id": "zuH46Cph5p28"
      }
    },
    {
      "cell_type": "code",
      "source": [
        "# Create our model\n",
        "model = Sequential([\n",
        "  Conv2D(60, 3, activation='relu', input_shape=(224, 224, 3)),\n",
        "  MaxPool2D(),\n",
        "  Conv2D(60, 3, activation='relu'),\n",
        "  MaxPool2D(),\n",
        "  Conv2D(60, 3, activation='relu'),\n",
        "  MaxPool2D(),\n",
        "  Flatten(),\n",
        "  Dense(3, activation='softmax')\n",
        "])\n",
        "\n",
        "# Compile the model\n",
        "model.compile(loss=\"categorical_crossentropy\",\n",
        "                optimizer=tf.keras.optimizers.Adam(),\n",
        "                metrics=[\"accuracy\"])\n",
        "\n",
        "history = model.fit(train_data,\n",
        "                        epochs=20,\n",
        "                        steps_per_epoch=len(train_data),\n",
        "                        validation_data=test_data,\n",
        "                        validation_steps=len(test_data))\n",
        "\n",
        "model.evaluate(test_data)"
      ],
      "metadata": {
        "colab": {
          "base_uri": "https://localhost:8080/"
        },
        "id": "kTFR4Iqd5rrK",
        "outputId": "a3160262-bf91-48b8-82ae-e586768e1b4c"
      },
      "execution_count": null,
      "outputs": [
        {
          "output_type": "stream",
          "name": "stdout",
          "text": [
            "Epoch 1/20\n",
            "8/8 [==============================] - 5s 643ms/step - loss: 1.1043 - accuracy: 0.3644 - val_loss: 1.0721 - val_accuracy: 0.3533\n",
            "Epoch 2/20\n",
            "8/8 [==============================] - 4s 602ms/step - loss: 1.0340 - accuracy: 0.4889 - val_loss: 1.2251 - val_accuracy: 0.3427\n",
            "Epoch 3/20\n",
            "8/8 [==============================] - 4s 592ms/step - loss: 1.0130 - accuracy: 0.4489 - val_loss: 1.0750 - val_accuracy: 0.3880\n",
            "Epoch 4/20\n",
            "8/8 [==============================] - 4s 601ms/step - loss: 1.0897 - accuracy: 0.5067 - val_loss: 0.9685 - val_accuracy: 0.5227\n",
            "Epoch 5/20\n",
            "8/8 [==============================] - 4s 592ms/step - loss: 0.8419 - accuracy: 0.6622 - val_loss: 0.9731 - val_accuracy: 0.4387\n",
            "Epoch 6/20\n",
            "8/8 [==============================] - 4s 623ms/step - loss: 0.7624 - accuracy: 0.6267 - val_loss: 1.0768 - val_accuracy: 0.4720\n",
            "Epoch 7/20\n",
            "8/8 [==============================] - 4s 598ms/step - loss: 0.7554 - accuracy: 0.6533 - val_loss: 0.8722 - val_accuracy: 0.5760\n",
            "Epoch 8/20\n",
            "8/8 [==============================] - 4s 594ms/step - loss: 0.5788 - accuracy: 0.7822 - val_loss: 1.0500 - val_accuracy: 0.5067\n",
            "Epoch 9/20\n",
            "8/8 [==============================] - 4s 594ms/step - loss: 0.5448 - accuracy: 0.7867 - val_loss: 0.9529 - val_accuracy: 0.5533\n",
            "Epoch 10/20\n",
            "8/8 [==============================] - 4s 594ms/step - loss: 0.5308 - accuracy: 0.7644 - val_loss: 1.1783 - val_accuracy: 0.5147\n",
            "Epoch 11/20\n",
            "8/8 [==============================] - 4s 596ms/step - loss: 0.3983 - accuracy: 0.8711 - val_loss: 0.9844 - val_accuracy: 0.5840\n",
            "Epoch 12/20\n",
            "8/8 [==============================] - 4s 595ms/step - loss: 0.2681 - accuracy: 0.8933 - val_loss: 1.3924 - val_accuracy: 0.5120\n",
            "Epoch 13/20\n",
            "8/8 [==============================] - 4s 604ms/step - loss: 0.2189 - accuracy: 0.9244 - val_loss: 1.1388 - val_accuracy: 0.5560\n",
            "Epoch 14/20\n",
            "8/8 [==============================] - 4s 610ms/step - loss: 0.1483 - accuracy: 0.9689 - val_loss: 1.4763 - val_accuracy: 0.5760\n",
            "Epoch 15/20\n",
            "8/8 [==============================] - 4s 607ms/step - loss: 0.1197 - accuracy: 0.9422 - val_loss: 1.7149 - val_accuracy: 0.5560\n",
            "Epoch 16/20\n",
            "8/8 [==============================] - 4s 601ms/step - loss: 0.1103 - accuracy: 0.9644 - val_loss: 1.3857 - val_accuracy: 0.5507\n",
            "Epoch 17/20\n",
            "8/8 [==============================] - 4s 588ms/step - loss: 0.0783 - accuracy: 0.9778 - val_loss: 1.7627 - val_accuracy: 0.5453\n",
            "Epoch 18/20\n",
            "8/8 [==============================] - 4s 603ms/step - loss: 0.0434 - accuracy: 0.9956 - val_loss: 2.0368 - val_accuracy: 0.5373\n",
            "Epoch 19/20\n",
            "8/8 [==============================] - 4s 598ms/step - loss: 0.0336 - accuracy: 1.0000 - val_loss: 2.1139 - val_accuracy: 0.5360\n",
            "Epoch 20/20\n",
            "8/8 [==============================] - 4s 623ms/step - loss: 0.0178 - accuracy: 1.0000 - val_loss: 2.1301 - val_accuracy: 0.5320\n",
            "24/24 [==============================] - 3s 136ms/step - loss: 2.1301 - accuracy: 0.5320\n"
          ]
        },
        {
          "output_type": "execute_result",
          "data": {
            "text/plain": [
              "[2.1300814151763916, 0.5320000052452087]"
            ]
          },
          "metadata": {},
          "execution_count": 58
        }
      ]
    },
    {
      "cell_type": "markdown",
      "source": [
        "Visualize history"
      ],
      "metadata": {
        "id": "xv0oyjUv-0BV"
      }
    },
    {
      "cell_type": "code",
      "source": [
        "# Plot the training curves\n",
        "pd.DataFrame(history.history).plot(figsize=(10, 7));"
      ],
      "metadata": {
        "colab": {
          "base_uri": "https://localhost:8080/",
          "height": 428
        },
        "id": "ONB2MfzX-2mC",
        "outputId": "b69647fe-39ab-4448-d228-f0bd37ad78cd"
      },
      "execution_count": null,
      "outputs": [
        {
          "output_type": "display_data",
          "data": {
            "text/plain": [
              "<Figure size 720x504 with 1 Axes>"
            ],
            "image/png": "[encoded data removed]"
          },
          "metadata": {
            "needs_background": "light"
          }
        }
      ]
    },
    {
      "cell_type": "markdown",
      "source": [
        "Висновки: в ході цієї лабораторної я навчилась вирішувати завдання візуальної класифікації по декільком класам"
      ],
      "metadata": {
        "id": "hLpBryDKXBsu"
      }
    }
  ]
}